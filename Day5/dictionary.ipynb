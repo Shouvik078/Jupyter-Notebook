{
 "cells": [
  {
   "cell_type": "code",
   "execution_count": 1,
   "metadata": {},
   "outputs": [],
   "source": [
    "excel_mock={\n",
    "    \"vineet\":4,\n",
    "    \"rishi\":4.5,\n",
    "    \"rushikesh\":6.5,\n",
    "    \"saurav\":6.85,\n",
    "    \"kalyani\":7.5,\n",
    "    \"kshitija\":3.45,\n",
    "    \"priyanka\":3,\n",
    "    \"deepak\":7.5,\n",
    "    1:456,\n",
    "    True:'True Values',\n",
    "    1.45:'Float key ',\n",
    "    (1,2):'Tuple vale'\n",
    "}"
   ]
  },
  {
   "cell_type": "code",
   "execution_count": 2,
   "metadata": {},
   "outputs": [
    {
     "data": {
      "text/plain": [
       "{'vineet': 4,\n",
       " 'rishi': 4.5,\n",
       " 'rushikesh': 6.5,\n",
       " 'saurav': 6.85,\n",
       " 'kalyani': 7.5,\n",
       " 'kshitija': 3.45,\n",
       " 'priyanka': 3,\n",
       " 'deepak': 7.5,\n",
       " 1: 'True Values',\n",
       " 1.45: 'Float key ',\n",
       " (1, 2): 'Tuple vale'}"
      ]
     },
     "execution_count": 2,
     "metadata": {},
     "output_type": "execute_result"
    }
   ],
   "source": [
    "excel_mock"
   ]
  },
  {
   "cell_type": "code",
   "execution_count": 4,
   "metadata": {},
   "outputs": [
    {
     "name": "stdout",
     "output_type": "stream",
     "text": [
      "vineet\n",
      "rishi\n",
      "rushikesh\n",
      "saurav\n",
      "kalyani\n",
      "kshitija\n",
      "priyanka\n",
      "deepak\n",
      "1\n",
      "1.45\n",
      "(1, 2)\n"
     ]
    }
   ],
   "source": [
    "for i in excel_mock.keys():\n",
    "    print(i)"
   ]
  },
  {
   "cell_type": "code",
   "execution_count": 5,
   "metadata": {},
   "outputs": [
    {
     "name": "stdout",
     "output_type": "stream",
     "text": [
      "4\n",
      "4.5\n",
      "6.5\n",
      "6.85\n",
      "7.5\n",
      "3.45\n",
      "3\n",
      "7.5\n",
      "True Values\n",
      "Float key \n",
      "Tuple vale\n"
     ]
    }
   ],
   "source": [
    "for i in excel_mock.values():\n",
    "    print(i)"
   ]
  },
  {
   "cell_type": "code",
   "execution_count": 6,
   "metadata": {},
   "outputs": [
    {
     "name": "stdout",
     "output_type": "stream",
     "text": [
      "('vineet', 4)\n",
      "('rishi', 4.5)\n",
      "('rushikesh', 6.5)\n",
      "('saurav', 6.85)\n",
      "('kalyani', 7.5)\n",
      "('kshitija', 3.45)\n",
      "('priyanka', 3)\n",
      "('deepak', 7.5)\n",
      "(1, 'True Values')\n",
      "(1.45, 'Float key ')\n",
      "((1, 2), 'Tuple vale')\n"
     ]
    }
   ],
   "source": [
    "for i in excel_mock.items():\n",
    "    print(i)"
   ]
  },
  {
   "cell_type": "code",
   "execution_count": 8,
   "metadata": {},
   "outputs": [
    {
     "name": "stdout",
     "output_type": "stream",
     "text": [
      "vineet => 4\n",
      "rishi => 4.5\n",
      "rushikesh => 6.5\n",
      "saurav => 6.85\n",
      "kalyani => 7.5\n",
      "kshitija => 3.45\n",
      "priyanka => 3\n",
      "deepak => 7.5\n",
      "1 => True Values\n",
      "1.45 => Float key \n",
      "(1, 2) => Tuple vale\n"
     ]
    }
   ],
   "source": [
    "for key,value in excel_mock.items():\n",
    "    print(key,\"=>\",value)"
   ]
  },
  {
   "cell_type": "code",
   "execution_count": 1,
   "metadata": {},
   "outputs": [],
   "source": [
    "dict1={\n",
    "    88:'Shouvik',\n",
    "    85:'Preety',\n",
    "    32:'Rintu',\n",
    "    37:'Abhishek'\n",
    "}"
   ]
  },
  {
   "cell_type": "code",
   "execution_count": 3,
   "metadata": {},
   "outputs": [
    {
     "data": {
      "text/plain": [
       "'Shouvik'"
      ]
     },
     "execution_count": 3,
     "metadata": {},
     "output_type": "execute_result"
    }
   ],
   "source": [
    "dict1[88]"
   ]
  },
  {
   "cell_type": "markdown",
   "metadata": {},
   "source": [
    "only key retrieve"
   ]
  },
  {
   "cell_type": "code",
   "execution_count": 4,
   "metadata": {},
   "outputs": [
    {
     "name": "stdout",
     "output_type": "stream",
     "text": [
      "88\n",
      "85\n",
      "32\n",
      "37\n"
     ]
    }
   ],
   "source": [
    "for i in dict1.keys():\n",
    "    print(i)"
   ]
  },
  {
   "cell_type": "markdown",
   "metadata": {},
   "source": [
    "only value retrieve"
   ]
  },
  {
   "cell_type": "code",
   "execution_count": 5,
   "metadata": {},
   "outputs": [
    {
     "name": "stdout",
     "output_type": "stream",
     "text": [
      "Shouvik\n",
      "Preety\n",
      "Rintu\n",
      "Abhishek\n"
     ]
    }
   ],
   "source": [
    "for name in dict1.values():\n",
    "    print(name)"
   ]
  },
  {
   "cell_type": "markdown",
   "metadata": {},
   "source": [
    "key, value pair retrieve using itmes"
   ]
  },
  {
   "cell_type": "code",
   "execution_count": 6,
   "metadata": {},
   "outputs": [
    {
     "name": "stdout",
     "output_type": "stream",
     "text": [
      "key value :  88  value present :  Shouvik\n",
      "key value :  85  value present :  Preety\n",
      "key value :  32  value present :  Rintu\n",
      "key value :  37  value present :  Abhishek\n"
     ]
    }
   ],
   "source": [
    "for k,v in dict1.items():\n",
    "    print(\"key value : \",k,\" value present : \",v)"
   ]
  },
  {
   "cell_type": "code",
   "execution_count": null,
   "metadata": {},
   "outputs": [],
   "source": []
  }
 ],
 "metadata": {
  "kernelspec": {
   "display_name": "Python 3",
   "language": "python",
   "name": "python3"
  },
  "language_info": {
   "codemirror_mode": {
    "name": "ipython",
    "version": 3
   },
   "file_extension": ".py",
   "mimetype": "text/x-python",
   "name": "python",
   "nbconvert_exporter": "python",
   "pygments_lexer": "ipython3",
   "version": "3.11.4"
  }
 },
 "nbformat": 4,
 "nbformat_minor": 2
}
