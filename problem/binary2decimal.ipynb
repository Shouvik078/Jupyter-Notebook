{
 "cells": [
  {
   "cell_type": "markdown",
   "metadata": {},
   "source": [
    "Binary to Decimal "
   ]
  },
  {
   "cell_type": "code",
   "execution_count": 7,
   "metadata": {},
   "outputs": [
    {
     "name": "stdout",
     "output_type": "stream",
     "text": [
      "Binary to 1010  decimal :  10\n"
     ]
    }
   ],
   "source": [
    "bn=int(input())\n",
    "ip=bn \n",
    "dec,count=0,0\n",
    "\n",
    "while(bn>0):\n",
    "    r=bn%10\n",
    "    exp=r*(2**count)\n",
    "    dec=dec+exp\n",
    "    bn=bn//10\n",
    "    count+=1\n",
    "print(\"Binary to\",ip,\" decimal : \",dec) "
   ]
  },
  {
   "cell_type": "code",
   "execution_count": 4,
   "metadata": {},
   "outputs": [
    {
     "name": "stdout",
     "output_type": "stream",
     "text": [
      "2\n",
      "7\n"
     ]
    }
   ],
   "source": [
    "# Function to convert binary string to decimal\n",
    "def binToDec(s):\n",
    "    # Convert binary string to decimal and print the result\n",
    "    decimal_number = int(s, 2)\n",
    "    print(decimal_number)\n",
    "\n",
    "# Main function to handle input and output\n",
    "if __name__ == \"__main__\":\n",
    "    # Read the number of test cases\n",
    "    t = int(input().strip())\n",
    "\n",
    "    # Process each test case\n",
    "    for _ in range(t):\n",
    "        # Read binary string input\n",
    "        binary_string = input().strip()\n",
    "        \n",
    "        # Call the function to convert and print decimal representation\n",
    "        binToDec(binary_string)\n"
   ]
  },
  {
   "cell_type": "code",
   "execution_count": 5,
   "metadata": {},
   "outputs": [
    {
     "data": {
      "text/plain": [
       "('111', 2)"
      ]
     },
     "execution_count": 5,
     "metadata": {},
     "output_type": "execute_result"
    }
   ],
   "source": [
    "'111',2"
   ]
  },
  {
   "cell_type": "code",
   "execution_count": 9,
   "metadata": {},
   "outputs": [
    {
     "data": {
      "text/plain": [
       "7"
      ]
     },
     "execution_count": 9,
     "metadata": {},
     "output_type": "execute_result"
    }
   ],
   "source": [
    "int('111',2)"
   ]
  },
  {
   "cell_type": "code",
   "execution_count": 12,
   "metadata": {},
   "outputs": [
    {
     "data": {
      "text/plain": [
       "5"
      ]
     },
     "execution_count": 12,
     "metadata": {},
     "output_type": "execute_result"
    }
   ],
   "source": [
    "int('5',10)"
   ]
  }
 ],
 "metadata": {
  "kernelspec": {
   "display_name": "Python 3",
   "language": "python",
   "name": "python3"
  },
  "language_info": {
   "codemirror_mode": {
    "name": "ipython",
    "version": 3
   },
   "file_extension": ".py",
   "mimetype": "text/x-python",
   "name": "python",
   "nbconvert_exporter": "python",
   "pygments_lexer": "ipython3",
   "version": "3.11.4"
  }
 },
 "nbformat": 4,
 "nbformat_minor": 2
}
