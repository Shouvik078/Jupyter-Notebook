{
 "cells": [
  {
   "cell_type": "code",
   "execution_count": 5,
   "metadata": {},
   "outputs": [],
   "source": [
    "n=int(input())\n",
    "list=[i for i in range(5,1000,3)]\n",
    "result=[]\n",
    "for j in list:\n",
    "    if j%4!=0:\n",
    "        result.append(j)\n",
    "    if j==(n-1):\n",
    "        break"
   ]
  },
  {
   "cell_type": "code",
   "execution_count": 6,
   "metadata": {},
   "outputs": [
    {
     "name": "stdout",
     "output_type": "stream",
     "text": [
      "[5, 11, 14, 17, 23, 26, 29, 35, 38, 41, 47, 50, 53, 59, 62, 65, 71, 74, 77, 83, 86, 89, 95, 98, 101, 107, 110, 113, 119, 122, 125, 131, 134, 137, 143, 146, 149, 155, 158, 161, 167, 170, 173, 179, 182, 185, 191, 194, 197, 203, 206, 209, 215, 218, 221, 227, 230, 233, 239, 242, 245, 251, 254, 257, 263, 266, 269, 275, 278, 281, 287, 290, 293, 299, 302, 305, 311, 314, 317, 323, 326, 329, 335, 338, 341, 347, 350, 353, 359, 362, 365, 371, 374, 377, 383, 386, 389, 395, 398, 401, 407, 410, 413, 419, 422, 425, 431, 434, 437, 443, 446, 449, 455, 458, 461, 467, 470, 473, 479, 482, 485, 491, 494, 497, 503, 506, 509, 515, 518, 521, 527, 530, 533, 539, 542, 545, 551, 554, 557, 563, 566, 569, 575, 578, 581, 587, 590, 593, 599, 602, 605, 611, 614, 617, 623, 626, 629, 635, 638, 641, 647, 650, 653, 659, 662, 665, 671, 674, 677, 683, 686, 689, 695, 698, 701, 707, 710, 713, 719, 722, 725, 731, 734, 737, 743, 746, 749, 755, 758, 761, 767, 770, 773, 779, 782, 785, 791, 794, 797, 803, 806, 809, 815, 818, 821, 827, 830, 833, 839, 842, 845, 851, 854, 857, 863, 866, 869, 875, 878, 881, 887, 890, 893, 899, 902, 905, 911, 914, 917, 923, 926, 929, 935, 938, 941, 947, 950, 953, 959, 962, 965, 971, 974, 977, 983, 986, 989, 995, 998]\n"
     ]
    }
   ],
   "source": [
    "print(result)"
   ]
  },
  {
   "cell_type": "code",
   "execution_count": 7,
   "metadata": {},
   "outputs": [
    {
     "name": "stdout",
     "output_type": "stream",
     "text": [
      "5 11 14 "
     ]
    }
   ],
   "source": [
    "def generate_series(x):\n",
    "    series_count = 0\n",
    "    num = 1\n",
    "    while series_count < x:\n",
    "        term = 3 * num + 2\n",
    "        if term % 4 != 0:\n",
    "            print(term, end=\" \")\n",
    "            series_count += 1\n",
    "        num += 1\n",
    "\n",
    "# Example usage\n",
    "x = int(input(\"Enter the number of terms: \"))\n",
    "generate_series(x)"
   ]
  },
  {
   "cell_type": "code",
   "execution_count": 16,
   "metadata": {},
   "outputs": [
    {
     "name": "stdout",
     "output_type": "stream",
     "text": [
      "    * \n",
      "  * * * \n",
      "* * * * * \n",
      "  * * * \n",
      "    * \n"
     ]
    }
   ],
   "source": [
    "n=int(input())\n",
    "n=n//2+1\n",
    "space=n//2+1\n",
    "star=1\n",
    "for i in range (n):\n",
    "    for j in range (0,space):\n",
    "        print(\"  \",end=\"\")\n",
    "    for k in range(0,star):\n",
    "        print(\"* \",end=\"\")\n",
    "    space-=1\n",
    "    star+=2\n",
    "    print()\n",
    "n2=n-1\n",
    "space2=1\n",
    "star2=n\n",
    "for i in range(n2):\n",
    "    for j in range(0,space2):\n",
    "        print(\"  \",end=\"\")\n",
    "    for k in range(0,star2):\n",
    "        print(\"* \",end=\"\")\n",
    "    space2+=1\n",
    "    star2-=2\n",
    "    print()\n"
   ]
  },
  {
   "cell_type": "code",
   "execution_count": 20,
   "metadata": {},
   "outputs": [
    {
     "name": "stdout",
     "output_type": "stream",
     "text": [
      "                *                 \n",
      "              * * *               \n",
      "            * * * * *             \n",
      "          * * * * * * *           \n",
      "        * * * * * * * * *         \n",
      "      * * * * * * * * * * *       \n",
      "    * * * * * * * * * * * * *     \n",
      "  * * * * * * * * * * * * * * *   \n",
      "* * * * * * * * * * * * * * * * * \n",
      "  * * * * * * * * * * * * * * *   \n",
      "    * * * * * * * * * * * * *     \n",
      "      * * * * * * * * * * *       \n",
      "        * * * * * * * * *         \n",
      "          * * * * * * *           \n",
      "            * * * * *             \n",
      "              * * *               \n",
      "                *                 \n"
     ]
    }
   ],
   "source": [
    "n=int(input())\n",
    "d=n//2+1\n",
    "for x in range(1,n+1):\n",
    "    for y in range(1,n+1):\n",
    "        if(y>=d)!=0 and y<=n-d+1:\n",
    "            print(\"* \",end=\"\")\n",
    "        else:\n",
    "            print(\"  \",end=\"\")\n",
    "    if x<=n//2:\n",
    "        d-=1\n",
    "    else:\n",
    "        d+=1\n",
    "    print()"
   ]
  },
  {
   "cell_type": "code",
   "execution_count": 1,
   "metadata": {},
   "outputs": [],
   "source": [
    "lst=[12,37,8]"
   ]
  },
  {
   "cell_type": "code",
   "execution_count": 2,
   "metadata": {},
   "outputs": [
    {
     "data": {
      "text/plain": [
       "[12, 37, 8]"
      ]
     },
     "execution_count": 2,
     "metadata": {},
     "output_type": "execute_result"
    }
   ],
   "source": [
    "lst "
   ]
  },
  {
   "cell_type": "code",
   "execution_count": 3,
   "metadata": {},
   "outputs": [],
   "source": [
    "lst=[5,11,2,3]"
   ]
  },
  {
   "cell_type": "code",
   "execution_count": 4,
   "metadata": {},
   "outputs": [],
   "source": [
    "lst.sort()"
   ]
  },
  {
   "cell_type": "code",
   "execution_count": 5,
   "metadata": {},
   "outputs": [
    {
     "data": {
      "text/plain": [
       "[2, 3, 5, 11]"
      ]
     },
     "execution_count": 5,
     "metadata": {},
     "output_type": "execute_result"
    }
   ],
   "source": [
    "lst "
   ]
  },
  {
   "cell_type": "code",
   "execution_count": 7,
   "metadata": {},
   "outputs": [
    {
     "data": {
      "text/plain": [
       "4"
      ]
     },
     "execution_count": 7,
     "metadata": {},
     "output_type": "execute_result"
    }
   ],
   "source": [
    "len(lst)"
   ]
  },
  {
   "cell_type": "code",
   "execution_count": 9,
   "metadata": {},
   "outputs": [
    {
     "data": {
      "text/plain": [
       "5"
      ]
     },
     "execution_count": 9,
     "metadata": {},
     "output_type": "execute_result"
    }
   ],
   "source": [
    "lst[len(lst)-2]"
   ]
  },
  {
   "cell_type": "code",
   "execution_count": 2,
   "metadata": {},
   "outputs": [],
   "source": [
    "a,b,c=map(int,input().split())"
   ]
  },
  {
   "cell_type": "code",
   "execution_count": 3,
   "metadata": {},
   "outputs": [
    {
     "name": "stdout",
     "output_type": "stream",
     "text": [
      "5 4 8\n"
     ]
    }
   ],
   "source": [
    "print(a,b,c)"
   ]
  },
  {
   "cell_type": "code",
   "execution_count": 4,
   "metadata": {},
   "outputs": [],
   "source": [
    "d=max(a,b,c)"
   ]
  },
  {
   "cell_type": "code",
   "execution_count": 5,
   "metadata": {},
   "outputs": [
    {
     "name": "stdout",
     "output_type": "stream",
     "text": [
      "8\n"
     ]
    }
   ],
   "source": [
    "print(d)"
   ]
  },
  {
   "cell_type": "code",
   "execution_count": 6,
   "metadata": {},
   "outputs": [
    {
     "name": "stdout",
     "output_type": "stream",
     "text": [
      "3\n"
     ]
    }
   ],
   "source": [
    "if 2*d*d<a*a+b*b+c*c:\n",
    "    print(1)\n",
    "elif 2*d*d>a*a+b*b+c*c:\n",
    "    print(3)\n",
    "elif 2*d*d==a*a+b*b+c*c:\n",
    "    print(2)"
   ]
  },
  {
   "cell_type": "code",
   "execution_count": 9,
   "metadata": {},
   "outputs": [],
   "source": [
    "a='s*d'"
   ]
  },
  {
   "cell_type": "code",
   "execution_count": 35,
   "metadata": {},
   "outputs": [
    {
     "data": {
      "text/plain": [
       "'geeks_for_geeks'"
      ]
     },
     "execution_count": 35,
     "metadata": {},
     "output_type": "execute_result"
    }
   ],
   "source": [
    "s='geeks_for_geeks' \n",
    "s"
   ]
  },
  {
   "cell_type": "code",
   "execution_count": 36,
   "metadata": {},
   "outputs": [],
   "source": [
    "res = s.replace(\"_\", \" \").title().replace(' ','')"
   ]
  },
  {
   "cell_type": "code",
   "execution_count": 37,
   "metadata": {},
   "outputs": [
    {
     "data": {
      "text/plain": [
       "'GeeksForGeeks'"
      ]
     },
     "execution_count": 37,
     "metadata": {},
     "output_type": "execute_result"
    }
   ],
   "source": [
    "res "
   ]
  },
  {
   "cell_type": "code",
   "execution_count": 26,
   "metadata": {},
   "outputs": [],
   "source": [
    "s=s.title()   .replace(\" \", \"\")"
   ]
  },
  {
   "cell_type": "code",
   "execution_count": 27,
   "metadata": {},
   "outputs": [],
   "source": [
    "s=s.split('_')"
   ]
  },
  {
   "cell_type": "code",
   "execution_count": 28,
   "metadata": {},
   "outputs": [
    {
     "data": {
      "text/plain": [
       "['Geeks', 'For', 'Geeks']"
      ]
     },
     "execution_count": 28,
     "metadata": {},
     "output_type": "execute_result"
    }
   ],
   "source": [
    "s"
   ]
  },
  {
   "cell_type": "code",
   "execution_count": 42,
   "metadata": {},
   "outputs": [],
   "source": [
    "res='GFG*FCB****MB'"
   ]
  },
  {
   "cell_type": "code",
   "execution_count": 43,
   "metadata": {},
   "outputs": [
    {
     "data": {
      "text/plain": [
       "['GFG', 'FCB', '', '', '', 'MB']"
      ]
     },
     "execution_count": 43,
     "metadata": {},
     "output_type": "execute_result"
    }
   ],
   "source": [
    "res=res.split(\"*\")\n",
    "res "
   ]
  },
  {
   "cell_type": "code",
   "execution_count": 44,
   "metadata": {},
   "outputs": [
    {
     "name": "stdout",
     "output_type": "stream",
     "text": [
      "GFG\n",
      "FCB\n",
      "MB\n"
     ]
    }
   ],
   "source": [
    "for i in res:\n",
    "    if len(i)==0:\n",
    "        continue\n",
    "    print(i)"
   ]
  },
  {
   "cell_type": "code",
   "execution_count": 12,
   "metadata": {},
   "outputs": [],
   "source": [
    "lst1=\"accio is best\" "
   ]
  },
  {
   "cell_type": "code",
   "execution_count": 14,
   "metadata": {},
   "outputs": [
    {
     "data": {
      "text/plain": [
       "['accio', 'is', 'best']"
      ]
     },
     "execution_count": 14,
     "metadata": {},
     "output_type": "execute_result"
    }
   ],
   "source": [
    "lst1=lst1.split()\n",
    "lst1 "
   ]
  },
  {
   "cell_type": "code",
   "execution_count": 15,
   "metadata": {},
   "outputs": [
    {
     "data": {
      "text/plain": [
       "['0', '1', '2', '1', '1', '2', '0', '1']"
      ]
     },
     "execution_count": 15,
     "metadata": {},
     "output_type": "execute_result"
    }
   ],
   "source": [
    "lst2=\"0 1 2 1 1 2 0 1\"\n",
    "lst2=lst2.split()\n",
    "lst2 "
   ]
  },
  {
   "cell_type": "code",
   "execution_count": 17,
   "metadata": {},
   "outputs": [
    {
     "name": "stdout",
     "output_type": "stream",
     "text": [
      "['accio', 'is', 'best', 'is', 'is', 'best', 'accio', 'is']\n"
     ]
    }
   ],
   "source": [
    "lst =[]\n",
    "for i in lst2:\n",
    "    lst.append(lst1[int(i)])\n",
    "\n",
    "print(lst)"
   ]
  },
  {
   "cell_type": "markdown",
   "metadata": {},
   "source": [
    "accio is best is is best accio is"
   ]
  },
  {
   "cell_type": "code",
   "execution_count": 18,
   "metadata": {},
   "outputs": [
    {
     "name": "stdout",
     "output_type": "stream",
     "text": [
      "accio is best is is best accio is "
     ]
    }
   ],
   "source": [
    "for i in lst:\n",
    "    print(i,end=' ')"
   ]
  },
  {
   "cell_type": "code",
   "execution_count": 32,
   "metadata": {},
   "outputs": [
    {
     "data": {
      "text/plain": [
       "['hello', 'world']"
      ]
     },
     "execution_count": 32,
     "metadata": {},
     "output_type": "execute_result"
    }
   ],
   "source": [
    "s=\"hello world \"\n",
    "s=s.split()\n",
    "s "
   ]
  },
  {
   "cell_type": "code",
   "execution_count": 36,
   "metadata": {},
   "outputs": [
    {
     "ename": "TypeError",
     "evalue": "can only concatenate str (not \"list\") to str",
     "output_type": "error",
     "traceback": [
      "\u001b[1;31m---------------------------------------------------------------------------\u001b[0m",
      "\u001b[1;31mTypeError\u001b[0m                                 Traceback (most recent call last)",
      "\u001b[1;32md:\\Codes\\jupyter notebook\\problem\\problem.ipynb Cell 35\u001b[0m line \u001b[0;36m4\n\u001b[0;32m      <a href='vscode-notebook-cell:/d%3A/Codes/jupyter%20notebook/problem/problem.ipynb#X56sZmlsZQ%3D%3D?line=1'>2</a>\u001b[0m \u001b[39mfor\u001b[39;00m i \u001b[39min\u001b[39;00m s:\n\u001b[0;32m      <a href='vscode-notebook-cell:/d%3A/Codes/jupyter%20notebook/problem/problem.ipynb#X56sZmlsZQ%3D%3D?line=2'>3</a>\u001b[0m     \u001b[39mif\u001b[39;00m \u001b[39mlen\u001b[39m(i)\u001b[39m>\u001b[39m\u001b[39m1\u001b[39m:\n\u001b[1;32m----> <a href='vscode-notebook-cell:/d%3A/Codes/jupyter%20notebook/problem/problem.ipynb#X56sZmlsZQ%3D%3D?line=3'>4</a>\u001b[0m         cap\u001b[39m=\u001b[39ms[\u001b[39m0\u001b[39;49m]\u001b[39m.\u001b[39;49mcapitalize()\u001b[39m+\u001b[39;49ms[\u001b[39m1\u001b[39;49m:\u001b[39m-\u001b[39;49m\u001b[39m1\u001b[39;49m]\u001b[39m+\u001b[39ms[\u001b[39m-\u001b[39m\u001b[39m1\u001b[39m]\u001b[39m.\u001b[39mcapitalize()\n\u001b[0;32m      <a href='vscode-notebook-cell:/d%3A/Codes/jupyter%20notebook/problem/problem.ipynb#X56sZmlsZQ%3D%3D?line=4'>5</a>\u001b[0m     \u001b[39melse\u001b[39;00m:\n\u001b[0;32m      <a href='vscode-notebook-cell:/d%3A/Codes/jupyter%20notebook/problem/problem.ipynb#X56sZmlsZQ%3D%3D?line=5'>6</a>\u001b[0m         cap\u001b[39m=\u001b[39mi\u001b[39m.\u001b[39mcapitalize()\n",
      "\u001b[1;31mTypeError\u001b[0m: can only concatenate str (not \"list\") to str"
     ]
    }
   ],
   "source": [
    "res=[]\n",
    "for i in s:\n",
    "    if len(i)>1:\n",
    "        cap=s[0].capitalize()+s[1:-1]+s[-1].capitalize()\n",
    "    else:\n",
    "        cap=i.capitalize()\n",
    "    res=res.append(cap)\n",
    "ans=' '.join(res)\n",
    "ans "
   ]
  },
  {
   "cell_type": "code",
   "execution_count": 34,
   "metadata": {},
   "outputs": [
    {
     "name": "stdout",
     "output_type": "stream",
     "text": [
      "apple, banana, cherry\n"
     ]
    }
   ],
   "source": [
    "words = [\"apple\", \"banana\", \"cherry\"]\n",
    "result = \", \".join(words)\n",
    "print(result)"
   ]
  },
  {
   "cell_type": "code",
   "execution_count": 35,
   "metadata": {},
   "outputs": [
    {
     "data": {
      "text/plain": [
       "str"
      ]
     },
     "execution_count": 35,
     "metadata": {},
     "output_type": "execute_result"
    }
   ],
   "source": [
    "type(result) "
   ]
  },
  {
   "cell_type": "code",
   "execution_count": 37,
   "metadata": {},
   "outputs": [
    {
     "name": "stdout",
     "output_type": "stream",
     "text": [
      "Modified sentence: HellO WorlD\n"
     ]
    }
   ],
   "source": [
    "def capitalize_first_last_characters(sentence):\n",
    "    words = sentence.split()\n",
    "    modified_words = []\n",
    "    \n",
    "    for word in words:\n",
    "        if len(word) > 1:\n",
    "            modified_word = word[0].capitalize() + word[1:-1] + word[-1].capitalize()\n",
    "        else:\n",
    "            modified_word = word.capitalize()\n",
    "        modified_words.append(modified_word)\n",
    "    \n",
    "    modified_sentence = ' '.join(modified_words)\n",
    "    return modified_sentence\n",
    "\n",
    "# Example usage\n",
    "input_sentence = input(\"Enter a sentence: \")\n",
    "modified_sentence = capitalize_first_last_characters(input_sentence)\n",
    "print(\"Modified sentence:\", modified_sentence)"
   ]
  },
  {
   "cell_type": "code",
   "execution_count": 39,
   "metadata": {},
   "outputs": [
    {
     "data": {
      "text/plain": [
       "'GFG'"
      ]
     },
     "execution_count": 39,
     "metadata": {},
     "output_type": "execute_result"
    }
   ],
   "source": [
    "str1='GFG'\n",
    "str2='FGG'\n",
    "str1"
   ]
  },
  {
   "cell_type": "code",
   "execution_count": 40,
   "metadata": {},
   "outputs": [
    {
     "data": {
      "text/plain": [
       "'FGG'"
      ]
     },
     "execution_count": 40,
     "metadata": {},
     "output_type": "execute_result"
    }
   ],
   "source": [
    "str2 "
   ]
  },
  {
   "cell_type": "code",
   "execution_count": 41,
   "metadata": {},
   "outputs": [
    {
     "data": {
      "text/plain": [
       "'GFGGFG'"
      ]
     },
     "execution_count": 41,
     "metadata": {},
     "output_type": "execute_result"
    }
   ],
   "source": [
    "str1=str1+str1 \n",
    "str1 "
   ]
  },
  {
   "cell_type": "code",
   "execution_count": 42,
   "metadata": {},
   "outputs": [
    {
     "data": {
      "text/plain": [
       "True"
      ]
     },
     "execution_count": 42,
     "metadata": {},
     "output_type": "execute_result"
    }
   ],
   "source": [
    "answer = str2 in str1 \n",
    "answer "
   ]
  },
  {
   "cell_type": "code",
   "execution_count": null,
   "metadata": {},
   "outputs": [],
   "source": [
    "\t \n",
    "def symmetry(a):\n",
    "\t\n",
    "\tn = len(a)\n",
    "\tflag = 0\n",
    "\t\n",
    "\t# Check if the string's length\n",
    "\t# is odd or even\n",
    "\tif n%2:\n",
    "\t\tmid = n//2 +1\n",
    "\telse:\n",
    "\t\tmid = n//2\n",
    "\t\t\n",
    "\tstart1 = 0\n",
    "\tstart2 = mid\n",
    "\t\n",
    "\twhile(start1 < mid and start2 < n):\n",
    "\t\t\n",
    "\t\tif (a[start1]== a[start2]):\n",
    "\t\t\tstart1 = start1 + 1\n",
    "\t\t\tstart2 = start2 + 1\n",
    "\t\telse:\n",
    "\t\t\tflag = 1\n",
    "\t\t\tbreak\n",
    "\t\n",
    "\t# Checking the flag variable to \n",
    "\t# check if the string is symmetrical\n",
    "\t# or not\n",
    "\tif flag == 0:\n",
    "\t\tprint(\"The entered string is symmetrical\")\n",
    "\telse:\n",
    "\t\tprint(\"The entered string is not symmetrical\")\n",
    "\t\t\n",
    "# Driver code\n",
    "string = 'khokho'\n",
    "palindrome(string)\n",
    "symmetry(string)"
   ]
  }
 ],
 "metadata": {
  "kernelspec": {
   "display_name": "Python 3",
   "language": "python",
   "name": "python3"
  },
  "language_info": {
   "codemirror_mode": {
    "name": "ipython",
    "version": 3
   },
   "file_extension": ".py",
   "mimetype": "text/x-python",
   "name": "python",
   "nbconvert_exporter": "python",
   "pygments_lexer": "ipython3",
   "version": "3.11.4"
  },
  "orig_nbformat": 4
 },
 "nbformat": 4,
 "nbformat_minor": 2
}
