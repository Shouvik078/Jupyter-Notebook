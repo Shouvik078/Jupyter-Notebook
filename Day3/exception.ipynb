{
 "cells": [
  {
   "cell_type": "code",
   "execution_count": 4,
   "metadata": {},
   "outputs": [
    {
     "name": "stdout",
     "output_type": "stream",
     "text": [
      "Code runs successfully\n"
     ]
    },
    {
     "ename": "ZeroDivisionError",
     "evalue": "division by zero",
     "output_type": "error",
     "traceback": [
      "\u001b[1;31m---------------------------------------------------------------------------\u001b[0m",
      "\u001b[1;31mZeroDivisionError\u001b[0m                         Traceback (most recent call last)",
      "\u001b[1;32md:\\Codes\\jupyter notebook\\Day3\\exception.ipynb Cell 1\u001b[0m line \u001b[0;36m4\n\u001b[0;32m      <a href='vscode-notebook-cell:/d%3A/Codes/jupyter%20notebook/Day3/exception.ipynb#W0sZmlsZQ%3D%3D?line=1'>2</a>\u001b[0m     no1\u001b[39m=\u001b[39m\u001b[39mint\u001b[39m(\u001b[39minput\u001b[39m(\u001b[39m\"\u001b[39m\u001b[39mno1 : \u001b[39m\u001b[39m\"\u001b[39m))\n\u001b[0;32m      <a href='vscode-notebook-cell:/d%3A/Codes/jupyter%20notebook/Day3/exception.ipynb#W0sZmlsZQ%3D%3D?line=2'>3</a>\u001b[0m     no2\u001b[39m=\u001b[39m\u001b[39mint\u001b[39m(\u001b[39minput\u001b[39m(\u001b[39m\"\u001b[39m\u001b[39mno2 : \u001b[39m\u001b[39m\"\u001b[39m))\n\u001b[1;32m----> <a href='vscode-notebook-cell:/d%3A/Codes/jupyter%20notebook/Day3/exception.ipynb#W0sZmlsZQ%3D%3D?line=3'>4</a>\u001b[0m     \u001b[39mprint\u001b[39m(no1\u001b[39m/\u001b[39;49mno2)\n\u001b[0;32m      <a href='vscode-notebook-cell:/d%3A/Codes/jupyter%20notebook/Day3/exception.ipynb#W0sZmlsZQ%3D%3D?line=4'>5</a>\u001b[0m \u001b[39mfinally\u001b[39;00m:\n\u001b[0;32m      <a href='vscode-notebook-cell:/d%3A/Codes/jupyter%20notebook/Day3/exception.ipynb#W0sZmlsZQ%3D%3D?line=5'>6</a>\u001b[0m     \u001b[39mprint\u001b[39m(\u001b[39m\"\u001b[39m\u001b[39mCode runs successfully\u001b[39m\u001b[39m\"\u001b[39m)\n",
      "\u001b[1;31mZeroDivisionError\u001b[0m: division by zero"
     ]
    }
   ],
   "source": [
    "try:\n",
    "    no1=int(input(\"no1 : \"))\n",
    "    no2=int(input(\"no2 : \"))\n",
    "    print(no1/no2)\n",
    "finally:\n",
    "    print(\"Code runs successfully\")"
   ]
  },
  {
   "cell_type": "code",
   "execution_count": 7,
   "metadata": {},
   "outputs": [
    {
     "name": "stdout",
     "output_type": "stream",
     "text": [
      "cannot divided by this\n",
      "Code runs successfully\n"
     ]
    }
   ],
   "source": [
    "try:\n",
    "    no1=int(input(\"no1 : \"))\n",
    "    no2=int(input(\"no2 : \"))\n",
    "    print(no1/no2)\n",
    "except ZeroDivisionError:\n",
    "    print(\"cannot divided by zero\")\n",
    "except ValueError:\n",
    "    print(\"cannot divided by this\")\n",
    "else:\n",
    "    print(\"Some error happend\")\n",
    "finally:\n",
    "    print(\"Code runs successfully\")"
   ]
  },
  {
   "cell_type": "markdown",
   "metadata": {},
   "source": [
    "except Exception as  e"
   ]
  },
  {
   "cell_type": "code",
   "execution_count": 9,
   "metadata": {},
   "outputs": [
    {
     "name": "stdout",
     "output_type": "stream",
     "text": [
      "Some error happened :  division by zero\n",
      "Code runs successfully\n"
     ]
    }
   ],
   "source": [
    "try:\n",
    "    no1=int(input(\"no1 : \"))\n",
    "    no2=int(input(\"no2 : \"))\n",
    "    print(no1/no2)\n",
    "except Exception as e:\n",
    "    print(\"Some error happened : \",e)\n",
    "finally:\n",
    "    print(\"Code runs successfully\")"
   ]
  },
  {
   "cell_type": "code",
   "execution_count": 10,
   "metadata": {},
   "outputs": [
    {
     "name": "stdout",
     "output_type": "stream",
     "text": [
      "Row 0 ==> *****\n",
      "Row 1 ==> *****\n",
      "Row 2 ==> *****\n",
      "Row 3 ==> *****\n",
      "Row 4 ==> *****\n"
     ]
    }
   ],
   "source": [
    "for i in range(5):\n",
    "    print(f'Row {i} ==> ',end='')\n",
    "    for j in range(5):\n",
    "        print('*',end='')\n",
    "    print()"
   ]
  },
  {
   "cell_type": "code",
   "execution_count": null,
   "metadata": {},
   "outputs": [],
   "source": []
  }
 ],
 "metadata": {
  "kernelspec": {
   "display_name": "Python 3",
   "language": "python",
   "name": "python3"
  },
  "language_info": {
   "codemirror_mode": {
    "name": "ipython",
    "version": 3
   },
   "file_extension": ".py",
   "mimetype": "text/x-python",
   "name": "python",
   "nbconvert_exporter": "python",
   "pygments_lexer": "ipython3",
   "version": "3.11.4"
  },
  "orig_nbformat": 4
 },
 "nbformat": 4,
 "nbformat_minor": 2
}
