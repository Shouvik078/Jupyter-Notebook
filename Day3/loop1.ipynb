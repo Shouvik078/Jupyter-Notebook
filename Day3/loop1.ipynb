{
 "cells": [
  {
   "cell_type": "code",
   "execution_count": 1,
   "metadata": {},
   "outputs": [
    {
     "name": "stdout",
     "output_type": "stream",
     "text": [
      "* \n",
      "* * \n",
      "* * * \n",
      "* * * * \n",
      "* * * * * \n"
     ]
    }
   ],
   "source": [
    "for i in range(5):\n",
    "    for j in range(i+1):\n",
    "        print(\"*\", end=\" \")\n",
    "    print()"
   ]
  },
  {
   "cell_type": "code",
   "execution_count": 2,
   "metadata": {},
   "outputs": [
    {
     "name": "stdout",
     "output_type": "stream",
     "text": [
      "* * * * * \n",
      "* * * * \n",
      "* * * \n",
      "* * \n",
      "* \n"
     ]
    }
   ],
   "source": [
    "for i in range(5,0,-1):\n",
    "    for j in range(i,0,-1):\n",
    "        print(\"*\",end=\" \") \n",
    "    print()"
   ]
  },
  {
   "cell_type": "code",
   "execution_count": 1,
   "metadata": {},
   "outputs": [],
   "source": [
    "x=5"
   ]
  },
  {
   "cell_type": "code",
   "execution_count": 2,
   "metadata": {},
   "outputs": [
    {
     "data": {
      "text/plain": [
       "6"
      ]
     },
     "execution_count": 2,
     "metadata": {},
     "output_type": "execute_result"
    }
   ],
   "source": [
    "x+=1\n",
    "x "
   ]
  },
  {
   "cell_type": "code",
   "execution_count": 3,
   "metadata": {},
   "outputs": [],
   "source": [
    "y=10"
   ]
  },
  {
   "cell_type": "code",
   "execution_count": 4,
   "metadata": {},
   "outputs": [],
   "source": [
    "y-=2"
   ]
  },
  {
   "cell_type": "code",
   "execution_count": 5,
   "metadata": {},
   "outputs": [
    {
     "data": {
      "text/plain": [
       "8"
      ]
     },
     "execution_count": 5,
     "metadata": {},
     "output_type": "execute_result"
    }
   ],
   "source": [
    "y"
   ]
  },
  {
   "cell_type": "code",
   "execution_count": 2,
   "metadata": {},
   "outputs": [
    {
     "name": "stdout",
     "output_type": "stream",
     "text": [
      "Welcome to Simple Calculator..\n",
      "Select Operation..\n",
      "1 : Addition\n",
      "2 : Subtraction\n",
      "3 : Multiplication\n",
      "4 : Division\n",
      "5 : Modulas\n",
      "6 : Quit\n",
      "The result is :  11\n",
      "Welcome to Simple Calculator..\n",
      "Select Operation..\n",
      "1 : Addition\n",
      "2 : Subtraction\n",
      "3 : Multiplication\n",
      "4 : Division\n",
      "5 : Modulas\n",
      "6 : Quit\n",
      "Thank u for using\n"
     ]
    }
   ],
   "source": [
    "while True:\n",
    "    print(\"Welcome to Simple Calculator..\")\n",
    "    print(\"Select Operation..\")\n",
    "    print(\"1 : Addition\")\n",
    "    print(\"2 : Subtraction\")\n",
    "    print(\"3 : Multiplication\")\n",
    "    print(\"4 : Division\")\n",
    "    print(\"5 : Modulas\")\n",
    "    print(\"6 : Quit\")\n",
    "\n",
    "    opr= input('Enter Operation : ')\n",
    "\n",
    "    if opr=='6':\n",
    "        print(\"Thank u for using\")\n",
    "        break\n",
    "    \n",
    "    no1=int(input(\"Enter first number\"))\n",
    "    no2=int(input(\"Enter second number\"))\n",
    "\n",
    "    if opr=='1':\n",
    "        print(\"The result is : \",no1+no2)\n",
    "    elif opr=='2':\n",
    "        print(\"The result is : \",no1-no2)\n",
    "    elif opr=='3':\n",
    "        print(\"The result is : \",no1*no2)\n",
    "    elif opr=='4':\n",
    "        print(\"The result is : \",no1/no2)\n",
    "    elif opr=='5':\n",
    "        print(\"The result is : \",no1%no2)\n",
    "    else:\n",
    "        print(\"Invalid Number\")\n",
    "\n",
    "\n"
   ]
  },
  {
   "cell_type": "code",
   "execution_count": 3,
   "metadata": {},
   "outputs": [
    {
     "name": "stdout",
     "output_type": "stream",
     "text": [
      "* \n",
      "* * \n",
      "* * * \n",
      "* * * * \n",
      "* * * * * \n"
     ]
    }
   ],
   "source": [
    "for i in range(5):\n",
    "    for j in range(i+1):\n",
    "        print('* ',end='')\n",
    "    print()"
   ]
  },
  {
   "cell_type": "code",
   "execution_count": 4,
   "metadata": {},
   "outputs": [
    {
     "name": "stdout",
     "output_type": "stream",
     "text": [
      "* * * * * \n",
      "* * * * \n",
      "* * * \n",
      "* * \n",
      "* \n"
     ]
    }
   ],
   "source": [
    "for i in range(5,0,-1):\n",
    "    for j in range(i):\n",
    "        print('* ',end='')\n",
    "    print()"
   ]
  },
  {
   "cell_type": "code",
   "execution_count": null,
   "metadata": {},
   "outputs": [],
   "source": []
  }
 ],
 "metadata": {
  "kernelspec": {
   "display_name": "Python 3",
   "language": "python",
   "name": "python3"
  },
  "language_info": {
   "codemirror_mode": {
    "name": "ipython",
    "version": 3
   },
   "file_extension": ".py",
   "mimetype": "text/x-python",
   "name": "python",
   "nbconvert_exporter": "python",
   "pygments_lexer": "ipython3",
   "version": "3.11.4"
  },
  "orig_nbformat": 4
 },
 "nbformat": 4,
 "nbformat_minor": 2
}
