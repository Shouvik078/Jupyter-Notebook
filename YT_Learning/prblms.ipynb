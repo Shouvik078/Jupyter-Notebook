{
 "cells": [
  {
   "cell_type": "code",
   "execution_count": 6,
   "metadata": {},
   "outputs": [],
   "source": [
    "def removet(li):\n",
    "    li=[ num for num in li if num]\n",
    "    \n",
    "li=[ (), ('Studytonight', '1', '2'), (), ('3', '4', '5', '6') ]"
   ]
  },
  {
   "cell_type": "code",
   "execution_count": 8,
   "metadata": {},
   "outputs": [
    {
     "name": "stdout",
     "output_type": "stream",
     "text": [
      "2 3 4 45 5 6 "
     ]
    }
   ],
   "source": [
    "num_list =[2,3,4,-5,-7,45,-66,5,6]\n",
    "for i in num_list:\n",
    "    if i>0:\n",
    "        print(i,end=\" \")"
   ]
  },
  {
   "cell_type": "code",
   "execution_count": 9,
   "metadata": {},
   "outputs": [
    {
     "name": "stdout",
     "output_type": "stream",
     "text": [
      "[2, 3, 4, 45, 5, 6]\n"
     ]
    }
   ],
   "source": [
    "num_list =[2,3,4,-5,-7,45,-66,5,6]\n",
    "pos_list=[i for i in num_list if i>0]\n",
    "print(pos_list)"
   ]
  },
  {
   "cell_type": "code",
   "execution_count": 14,
   "metadata": {},
   "outputs": [
    {
     "name": "stdout",
     "output_type": "stream",
     "text": [
      "1 1 "
     ]
    }
   ],
   "source": [
    "n = int(input()) # Read the number of inputs\n",
    "num_list = []\n",
    "for i in range(n):\n",
    "\telement =int(input())\n",
    "\tnum_list.append(element)\n",
    " \n",
    "for i in num_list:\n",
    "    if i>0:\n",
    "        print(i,end=\" \")"
   ]
  },
  {
   "cell_type": "code",
   "execution_count": 15,
   "metadata": {},
   "outputs": [
    {
     "name": "stdout",
     "output_type": "stream",
     "text": [
      "1 1 "
     ]
    }
   ],
   "source": [
    "if __name__ == \"__main__\":\n",
    "\tn = int(input()) # Read the number of inputs\n",
    "\tnum_list = []\n",
    "for i in range(n):\n",
    "\telement =int(input())\n",
    "\tnum_list.append(element)\n",
    "\n",
    "for i in num_list:\n",
    "\tif i>0:\n",
    "\t\tprint(i,end=\" \")"
   ]
  },
  {
   "cell_type": "code",
   "execution_count": 1,
   "metadata": {},
   "outputs": [
    {
     "name": "stdout",
     "output_type": "stream",
     "text": [
      "IT JGEC 6088 de shouvik "
     ]
    }
   ],
   "source": [
    "str=\"shouvik de 6088 JGEC IT\"\n",
    "str2=str.split()\n",
    "str2=reversed(str2)\n",
    "for i in str2:\n",
    "    print(i,end=\" \")"
   ]
  },
  {
   "cell_type": "code",
   "execution_count": 20,
   "metadata": {},
   "outputs": [
    {
     "data": {
      "text/plain": [
       "['shouvik', 'de', '6088', 'JGEC']"
      ]
     },
     "execution_count": 20,
     "metadata": {},
     "output_type": "execute_result"
    }
   ],
   "source": [
    "str2 "
   ]
  },
  {
   "cell_type": "code",
   "execution_count": 25,
   "metadata": {},
   "outputs": [
    {
     "name": "stdout",
     "output_type": "stream",
     "text": [
      "JGEC 6088 de shouvik "
     ]
    }
   ],
   "source": [
    "str3=reversed(str2)\n",
    "for i in str3:\n",
    "    print(i,end=\" \")"
   ]
  },
  {
   "cell_type": "code",
   "execution_count": 3,
   "metadata": {},
   "outputs": [],
   "source": [
    "lst=[5,8,9,6,11,24,5,8,8,9,5,4,6,11,24,8,4]\n",
    "lst=set(lst)"
   ]
  },
  {
   "cell_type": "code",
   "execution_count": 4,
   "metadata": {},
   "outputs": [
    {
     "name": "stdout",
     "output_type": "stream",
     "text": [
      "4\n",
      "5\n",
      "6\n",
      "8\n",
      "9\n",
      "11\n",
      "24\n"
     ]
    }
   ],
   "source": [
    "for i in lst:\n",
    "    print(i)"
   ]
  },
  {
   "cell_type": "code",
   "execution_count": 12,
   "metadata": {},
   "outputs": [],
   "source": [
    "cars = ['Ford', 'BMW', 'Volvo']\n",
    "cars.sort()"
   ]
  },
  {
   "cell_type": "code",
   "execution_count": 13,
   "metadata": {},
   "outputs": [
    {
     "name": "stdout",
     "output_type": "stream",
     "text": [
      "BMW\n",
      "Ford\n",
      "Volvo\n"
     ]
    }
   ],
   "source": [
    "for i in cars:\n",
    "    print(i)"
   ]
  },
  {
   "cell_type": "code",
   "execution_count": 21,
   "metadata": {},
   "outputs": [
    {
     "name": "stdout",
     "output_type": "stream",
     "text": [
      "s*s*s*s*s****sss\n"
     ]
    }
   ],
   "source": [
    "test_str = \"sasasasasaaaasss\"\n",
    "vow=\"aeiouAEIOU\"\n",
    "for i in test_str:\n",
    "    if i in vow:\n",
    "        test_str=test_str.replace(i,\"*\")\n",
    "print(test_str)"
   ]
  },
  {
   "cell_type": "code",
   "execution_count": 22,
   "metadata": {},
   "outputs": [
    {
     "name": "stdout",
     "output_type": "stream",
     "text": [
      "s\n",
      "s\n",
      "s\n",
      "s\n",
      "s\n",
      "\n",
      "\n",
      "\n",
      "sss\n"
     ]
    }
   ],
   "source": [
    "res=test_str.split('*')\n",
    "for i in res:\n",
    "    print(i)"
   ]
  },
  {
   "cell_type": "code",
   "execution_count": 30,
   "metadata": {},
   "outputs": [
    {
     "name": "stdout",
     "output_type": "stream",
     "text": [
      "This is python language \n"
     ]
    }
   ],
   "source": [
    "s = \"This is a python language\"\n",
    "lst=s.split()\n",
    "final=[]\n",
    "for i in lst:\n",
    "    lenn=len(i)\n",
    "    if lenn%2==0:\n",
    "        final.append(i)\n",
    "s=\"\"\n",
    "for i in final:\n",
    "    s=s+i+\" \"\n",
    "print(s)"
   ]
  },
  {
   "cell_type": "code",
   "execution_count": 31,
   "metadata": {},
   "outputs": [],
   "source": [
    "x=22"
   ]
  },
  {
   "cell_type": "code",
   "execution_count": 32,
   "metadata": {},
   "outputs": [
    {
     "name": "stdout",
     "output_type": "stream",
     "text": [
      "7\n"
     ]
    }
   ],
   "source": [
    "x//=3\n",
    "print(x)"
   ]
  },
  {
   "cell_type": "code",
   "execution_count": 33,
   "metadata": {},
   "outputs": [
    {
     "name": "stdout",
     "output_type": "stream",
     "text": [
      "3\n"
     ]
    }
   ],
   "source": [
    "x%=4\n",
    "print(x)"
   ]
  },
  {
   "cell_type": "code",
   "execution_count": 2,
   "metadata": {},
   "outputs": [
    {
     "name": "stdout",
     "output_type": "stream",
     "text": [
      "Concatenated list:\n",
      " [10, 11, 12, 13, 14, 20, 30, 42]\n"
     ]
    }
   ],
   "source": [
    "list1 = [10, 11, 12, 13, 14] \n",
    "list2 = [20, 30, 42] \n",
    "\n",
    "res = [*list1, *list2] \n",
    "  \n",
    "print (\"Concatenated list:\\n \" + str(res)) "
   ]
  },
  {
   "cell_type": "markdown",
   "metadata": {},
   "source": [
    "[(5,3,1),(5,3,0),(4,3,5),(5,1,4)] "
   ]
  },
  {
   "cell_type": "code",
   "execution_count": 3,
   "metadata": {},
   "outputs": [],
   "source": [
    "lst=[(5,3,1),(5,3,0),(4,3,5),(5,1,4)]  "
   ]
  },
  {
   "cell_type": "code",
   "execution_count": 4,
   "metadata": {},
   "outputs": [
    {
     "data": {
      "text/plain": [
       "[(5, 3, 1), (5, 3, 0), (4, 3, 5), (5, 1, 4)]"
      ]
     },
     "execution_count": 4,
     "metadata": {},
     "output_type": "execute_result"
    }
   ],
   "source": [
    "lst "
   ]
  },
  {
   "cell_type": "code",
   "execution_count": 5,
   "metadata": {},
   "outputs": [
    {
     "name": "stdout",
     "output_type": "stream",
     "text": [
      "[('Geeksforgeeks', 5), ('is', 10), ('a', 15), ('portal', 20), ('for', 24), ('Geeks', 28)]\n"
     ]
    }
   ],
   "source": [
    "# Python program to sort a list of tuples by the second Item\n",
    "\n",
    "# Function to sort the list of tuples by its second item\n",
    "\n",
    "\n",
    "def Sort_Tuple(tup):\n",
    "\n",
    "\t# getting length of list of tuples\n",
    "\tlst = len(tup)\n",
    "\tfor i in range(0, lst):\n",
    "\n",
    "\t\tfor j in range(0, lst-i-1):\n",
    "\t\t\tif (tup[j][1] > tup[j + 1][1]):\n",
    "\t\t\t\ttemp = tup[j]\n",
    "\t\t\t\ttup[j] = tup[j + 1]\n",
    "\t\t\t\ttup[j + 1] = temp\n",
    "\treturn tup\n",
    "\n",
    "\n",
    "# Driver Code\n",
    "tup = [('for', 24), ('is', 10), ('Geeks', 28),\n",
    "\t('Geeksforgeeks', 5), ('portal', 20), ('a', 15)]\n",
    "\n",
    "print(Sort_Tuple(tup)) "
   ]
  },
  {
   "cell_type": "code",
   "execution_count": 7,
   "metadata": {},
   "outputs": [
    {
     "name": "stdout",
     "output_type": "stream",
     "text": [
      "[(5, 1, 4), (5, 3, 1), (5, 3, 0), (4, 3, 5)]\n"
     ]
    }
   ],
   "source": [
    "# Python program to sort a list of\n",
    "# tuples by the second Item using sort() \n",
    "\n",
    "# Function to sort the list by second item of tuple\n",
    "def Sort_Tuple(tup): \n",
    "\n",
    "\t# reverse = None (Sorts in Ascending order) \n",
    "\t# key is set to sort using second element of \n",
    "\t# sublist lambda has been used \n",
    "\ttup.sort(key = lambda x: x[1]) \n",
    "\treturn tup \n",
    "\n",
    "# Driver Code \n",
    "tup = [(5,3,1),(5,3,0),(4,3,5),(5,1,4)]\n",
    "\n",
    "# printing the sorted list of tuples\n",
    "print(Sort_Tuple(tup))  "
   ]
  },
  {
   "cell_type": "code",
   "execution_count": 8,
   "metadata": {},
   "outputs": [],
   "source": [
    "lst=[(5,-1,1),(5,3,0),(4,2,5),(5,1,4)]  "
   ]
  },
  {
   "cell_type": "code",
   "execution_count": 12,
   "metadata": {},
   "outputs": [],
   "source": [
    "lst.sort(key=lambda x:x[1])  "
   ]
  },
  {
   "cell_type": "code",
   "execution_count": 13,
   "metadata": {},
   "outputs": [
    {
     "data": {
      "text/plain": [
       "[(5, -1, 1), (5, 1, 4), (4, 2, 5), (5, 3, 0)]"
      ]
     },
     "execution_count": 13,
     "metadata": {},
     "output_type": "execute_result"
    }
   ],
   "source": [
    "lst "
   ]
  },
  {
   "cell_type": "code",
   "execution_count": null,
   "metadata": {},
   "outputs": [],
   "source": []
  }
 ],
 "metadata": {
  "kernelspec": {
   "display_name": "Python 3",
   "language": "python",
   "name": "python3"
  },
  "language_info": {
   "codemirror_mode": {
    "name": "ipython",
    "version": 3
   },
   "file_extension": ".py",
   "mimetype": "text/x-python",
   "name": "python",
   "nbconvert_exporter": "python",
   "pygments_lexer": "ipython3",
   "version": "3.11.4"
  }
 },
 "nbformat": 4,
 "nbformat_minor": 2
}
