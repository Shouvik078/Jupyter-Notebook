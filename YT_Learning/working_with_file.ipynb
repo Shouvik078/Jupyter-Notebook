{
 "cells": [
  {
   "cell_type": "markdown",
   "metadata": {},
   "source": [
    "For using file system we should import os Library"
   ]
  },
  {
   "cell_type": "code",
   "execution_count": 1,
   "metadata": {},
   "outputs": [],
   "source": [
    "import os "
   ]
  },
  {
   "cell_type": "markdown",
   "metadata": {},
   "source": [
    "To check the current working directory"
   ]
  },
  {
   "cell_type": "code",
   "execution_count": 2,
   "metadata": {},
   "outputs": [
    {
     "data": {
      "text/plain": [
       "'d:\\\\Codes\\\\jupyter notebook\\\\YT_Learning'"
      ]
     },
     "execution_count": 2,
     "metadata": {},
     "output_type": "execute_result"
    }
   ],
   "source": [
    "os.getcwd()"
   ]
  },
  {
   "cell_type": "markdown",
   "metadata": {},
   "source": [
    "To see all folder"
   ]
  },
  {
   "cell_type": "code",
   "execution_count": 5,
   "metadata": {},
   "outputs": [
    {
     "data": {
      "text/plain": [
       "['$MfeDeepRem',\n",
       " '$RECYCLE.BIN',\n",
       " '000',\n",
       " '1 DA',\n",
       " '1 Study 📔💻',\n",
       " '13th Sept Student Sharing DA Problem Solving + Critical Thinking.pdf',\n",
       " 'Acciojob',\n",
       " 'Ankit Bansal',\n",
       " 'AWS Tutorial.mp4',\n",
       " 'CAPSTONE Olympic documentation.docx',\n",
       " 'Codes',\n",
       " 'Documents',\n",
       " 'GIT',\n",
       " 'MySQL',\n",
       " 'Power Bi Nag',\n",
       " 'Projects',\n",
       " 'Realme 6i Back up',\n",
       " 'Show',\n",
       " 'System Volume Information']"
      ]
     },
     "execution_count": 5,
     "metadata": {},
     "output_type": "execute_result"
    }
   ],
   "source": [
    "os.listdir('/')"
   ]
  },
  {
   "cell_type": "code",
   "execution_count": 8,
   "metadata": {},
   "outputs": [],
   "source": [
    "import urllib.request"
   ]
  },
  {
   "cell_type": "code",
   "execution_count": 7,
   "metadata": {},
   "outputs": [],
   "source": [
    "url1 = 'https://www.google.com/search?gs_ssp=eJzj4tDP1TewTC-sMGD0YstJzMlMTwQAMXYFgg&q=laliga&rlz=1C1CHBF_enIN971IN971&oq=laliga&gs_lcrp=EgZjaHJvbWUqDQgBEC4YgwEYsQMYgAQyEAgAEAAYgwEY4wIYsQMYgAQyDQgBEC4YgwEYsQMYgAQyDQgCEAAYgwEYsQMYgAQyDQgDEAAYgwEYsQMYgAQyCggEEC4YsQMYgAQyDQgFEAAYgwEYsQMYgAQyDQgGEAAYgwEYsQMYgAQyDwgHEAAYChiDARixAxiABDIHCAgQABiABDINCAkQABiDARixAxiABNIBCDM5NTlqMGo3qAIAsAIA&sourceid=chrome&ie=UTF-8#sie=lg;/g/11khrmf0s3;2;/m/09gqx;st;fp;1;;;'"
   ]
  },
  {
   "cell_type": "markdown",
   "metadata": {},
   "source": [
    "reading from a file by using Open function  and mode='r' for read "
   ]
  },
  {
   "cell_type": "markdown",
   "metadata": {},
   "source": [
    "file1.close() - For closing the file otherwise it will run on RAM"
   ]
  },
  {
   "cell_type": "markdown",
   "metadata": {},
   "source": [
    ".strip() -  for remove newline character"
   ]
  },
  {
   "cell_type": "markdown",
   "metadata": {},
   "source": [
    ".split(',') - To split the string where ',' exists"
   ]
  },
  {
   "cell_type": "markdown",
   "metadata": {},
   "source": [
    "read_csv(' ') - for reading csv files"
   ]
  },
  {
   "cell_type": "code",
   "execution_count": 1,
   "metadata": {},
   "outputs": [
    {
     "name": "stdout",
     "output_type": "stream",
     "text": [
      "Loans\n"
     ]
    }
   ],
   "source": [
    "print(\"Loans\")                                                                       "
   ]
  },
  {
   "cell_type": "code",
   "execution_count": null,
   "metadata": {},
   "outputs": [],
   "source": []
  }
 ],
 "metadata": {
  "kernelspec": {
   "display_name": "Python 3",
   "language": "python",
   "name": "python3"
  },
  "language_info": {
   "codemirror_mode": {
    "name": "ipython",
    "version": 3
   },
   "file_extension": ".py",
   "mimetype": "text/x-python",
   "name": "python",
   "nbconvert_exporter": "python",
   "pygments_lexer": "ipython3",
   "version": "3.11.4"
  },
  "orig_nbformat": 4
 },
 "nbformat": 4,
 "nbformat_minor": 2
}
